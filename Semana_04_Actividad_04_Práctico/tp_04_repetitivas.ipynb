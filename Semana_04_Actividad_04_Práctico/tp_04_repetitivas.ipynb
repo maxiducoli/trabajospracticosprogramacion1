{
 "cells": [
  {
   "cell_type": "code",
   "execution_count": 4,
   "id": "41fde118",
   "metadata": {},
   "outputs": [
    {
     "name": "stdout",
     "output_type": "stream",
     "text": [
      "0\n",
      "1\n",
      "2\n",
      "3\n",
      "4\n",
      "5\n",
      "6\n",
      "7\n",
      "8\n",
      "9\n",
      "10\n",
      "11\n",
      "12\n",
      "13\n",
      "14\n",
      "15\n",
      "16\n",
      "17\n",
      "18\n",
      "19\n",
      "20\n",
      "21\n",
      "22\n",
      "23\n",
      "24\n",
      "25\n",
      "26\n",
      "27\n",
      "28\n",
      "29\n",
      "30\n",
      "31\n",
      "32\n",
      "33\n",
      "34\n",
      "35\n",
      "36\n",
      "37\n",
      "38\n",
      "39\n",
      "40\n",
      "41\n",
      "42\n",
      "43\n",
      "44\n",
      "45\n",
      "46\n",
      "47\n",
      "48\n",
      "49\n",
      "50\n",
      "51\n",
      "52\n",
      "53\n",
      "54\n",
      "55\n",
      "56\n",
      "57\n",
      "58\n",
      "59\n",
      "60\n",
      "61\n",
      "62\n",
      "63\n",
      "64\n",
      "65\n",
      "66\n",
      "67\n",
      "68\n",
      "69\n",
      "70\n",
      "71\n",
      "72\n",
      "73\n",
      "74\n",
      "75\n",
      "76\n",
      "77\n",
      "78\n",
      "79\n",
      "80\n",
      "81\n",
      "82\n",
      "83\n",
      "84\n",
      "85\n",
      "86\n",
      "87\n",
      "88\n",
      "89\n",
      "90\n",
      "91\n",
      "92\n",
      "93\n",
      "94\n",
      "95\n",
      "96\n",
      "97\n",
      "98\n",
      "99\n",
      "100\n"
     ]
    }
   ],
   "source": [
    "#1) Crea un programa que imprima en pantalla todos los números enteros desde 0 hasta 100 (incluyendo ambos extremos),\n",
    "# en orden creciente, mostrando un número por línea. \n",
    "\n",
    "for i in range(0,101,1):\n",
    "    print(i)\n",
    "    "
   ]
  },
  {
   "cell_type": "code",
   "execution_count": 4,
   "id": "ccbb91d5",
   "metadata": {},
   "outputs": [
    {
     "name": "stdout",
     "output_type": "stream",
     "text": [
      "La cantidad de digitos del número ingresado es:  1\n"
     ]
    }
   ],
   "source": [
    "#2) Desarrolla un programa que solicite al usuario un número entero y determine la cantidad de dígitos que contiene. \n",
    "\n",
    "numero = input(\"Ingrese un número entero:  \")\n",
    "cantidad = 0\n",
    "if not numero.isdigit():\n",
    "    print(\"No ha ingresado un número entero.\")\n",
    "else:\n",
    "    for i in range(0,len(numero),1):\n",
    "        cantidad += 1\n",
    "print(\"La cantidad de digitos del número ingresado es: \",cantidad)"
   ]
  },
  {
   "cell_type": "code",
   "execution_count": 21,
   "id": "58b39a3f",
   "metadata": {},
   "outputs": [
    {
     "name": "stdout",
     "output_type": "stream",
     "text": [
      "Posición actual: -4, suma anterior: 0, suma actual: -4\n",
      "Posición actual: -3, suma anterior: -4, suma actual: -7\n",
      "Posición actual: -2, suma anterior: -7, suma actual: -9\n",
      "Posición actual: -1, suma anterior: -9, suma actual: -10\n",
      "Posición actual: 0, suma anterior: -10, suma actual: -10\n",
      "Posición actual: 1, suma anterior: -10, suma actual: -9\n",
      "Posición actual: 2, suma anterior: -9, suma actual: -7\n",
      "Posición actual: 3, suma anterior: -7, suma actual: -4\n",
      "Posición actual: 4, suma anterior: -4, suma actual: 0\n",
      "Posición actual: 5, suma anterior: 0, suma actual: 5\n",
      "Posición actual: 6, suma anterior: 5, suma actual: 11\n",
      "Posición actual: 7, suma anterior: 11, suma actual: 18\n",
      "La suma de los números enteros comprendidos entre  -5  y  8  es:  18\n"
     ]
    }
   ],
   "source": [
    "#3) Escribe un programa que sume todos los números enteros comprendidos entre dos valores\n",
    "#dados por el usuario, excluyendo esos dos valores.\n",
    "\n",
    "numero1 = int(input(\"Ingrese el primer número: \"))\n",
    "numero2 = int(input(\"Ingrese el segundo número: \"))\n",
    "suma = 0\n",
    "nosumados = 0\n",
    "for i in range(numero1+1,numero2,1):\n",
    "    nosumados = suma\n",
    "    suma += i\n",
    "    print(f\"Posición actual: {i}, suma anterior: {nosumados}, suma actual: {suma}\")\n",
    "    \n",
    "\n",
    "print(\"La suma de los números enteros comprendidos entre \",numero1,\" y \",numero2,\" es: \",suma)\n"
   ]
  },
  {
   "cell_type": "code",
   "execution_count": null,
   "id": "cc708930",
   "metadata": {},
   "outputs": [
    {
     "name": "stdout",
     "output_type": "stream",
     "text": [
      "La suma de los numeros es:  14\n"
     ]
    }
   ],
   "source": [
    "#4) Elabora un programa que permita al usuario ingresar números enteros y los sume en\n",
    "#secuencia. El programa debe detenerse y mostrar el total acumulado cuando el usuario ingrese\n",
    "#un 0.\n",
    "\n",
    "numero1 = int(input(\"Ingrese el primer número: \"))\n",
    "numero2 = int(input(\"Ingrese el segundo número: \"))\n",
    "suma = 0\n",
    "while numero1 !=0 and numero2 !=0:\n",
    "    suma += numero1 + numero2\n",
    "    \n",
    "    numero1 = int(input(\"Ingrese el primer número: \"))\n",
    "    numero2 = int(input(\"Ingrese el segundo número: \"))\n",
    "    \n",
    "print(\"La suma de los numeros es: \", suma)"
   ]
  },
  {
   "cell_type": "code",
   "execution_count": 7,
   "id": "fafff9f7",
   "metadata": {},
   "outputs": [
    {
     "name": "stdout",
     "output_type": "stream",
     "text": [
      "Adivinaste el número 5 en 5 intentos!\n"
     ]
    }
   ],
   "source": [
    "#5) Crea un juego en el que el usuario deba adivinar un número aleatorio entre 0 y 9. Al final, el\n",
    "#programa debe mostrar cuántos intentos fueron necesarios para acertar el número.\n",
    "from random import randint\n",
    "numero = randint(0,9)\n",
    "intentos = 0\n",
    "numero_usuario = int(input(\"Adivina un número entre 0 y 9: \"))\n",
    "\n",
    "while numero_usuario != numero:\n",
    "    intentos +=1\n",
    "    numero_usuario = int(input(\"Número incorrecto, intenta de nuevo: \"))\n",
    "\n",
    "print(f\"Adivinaste el número {numero} en {intentos} intentos!\")"
   ]
  },
  {
   "cell_type": "code",
   "execution_count": 27,
   "id": "016cbc01",
   "metadata": {},
   "outputs": [
    {
     "name": "stdout",
     "output_type": "stream",
     "text": [
      "Los números pares entre 0 y 100 son:\n",
      "100\n",
      "98\n",
      "96\n",
      "94\n",
      "92\n",
      "90\n",
      "88\n",
      "86\n",
      "84\n",
      "82\n",
      "80\n",
      "78\n",
      "76\n",
      "74\n",
      "72\n",
      "70\n",
      "68\n",
      "66\n",
      "64\n",
      "62\n",
      "60\n",
      "58\n",
      "56\n",
      "54\n",
      "52\n",
      "50\n",
      "48\n",
      "46\n",
      "44\n",
      "42\n",
      "40\n",
      "38\n",
      "36\n",
      "34\n",
      "32\n",
      "30\n",
      "28\n",
      "26\n",
      "24\n",
      "22\n",
      "20\n",
      "18\n",
      "16\n",
      "14\n",
      "12\n",
      "10\n",
      "8\n",
      "6\n",
      "4\n",
      "2\n",
      "0\n"
     ]
    }
   ],
   "source": [
    "#6) Desarrolla un programa que imprima en pantalla todos los números pares comprendidos\n",
    "#entre 0 y 100, en orden decreciente\n",
    "\n",
    "print(\"Los números pares entre 0 y 100 son:\")\n",
    "for i in range(100, -1, -2):\n",
    "    print(i)"
   ]
  },
  {
   "cell_type": "code",
   "execution_count": 33,
   "id": "6f3e1097",
   "metadata": {},
   "outputs": [
    {
     "name": "stdout",
     "output_type": "stream",
     "text": [
      "La suma de los números enteros entre 0 y  100  es:  5050\n"
     ]
    }
   ],
   "source": [
    "#7) Crea un programa que calcule la suma de todos los números comprendidos entre 0 y un\n",
    "#número entero positivo indicado por el usuario.\n",
    "\n",
    "numero = int(input(\"Ingrese un número entero positivo: \"))\n",
    "suma = 0\n",
    "if numero < 0:\n",
    "    print(\"El número ingresado no es positivo.\")\n",
    "else:   \n",
    "    for i in range(0,numero+1,1):\n",
    "        suma += i\n",
    "        #print(i)\n",
    "    print(\"La suma de los números enteros entre 0 y \",numero,\" es: \",suma)\n"
   ]
  },
  {
   "cell_type": "code",
   "execution_count": null,
   "id": "5475b714",
   "metadata": {},
   "outputs": [
    {
     "name": "stdout",
     "output_type": "stream",
     "text": [
      "La cantidad de número pares fue de: 5\n",
      " La cantidad de números impares fue de: 5\n",
      " La cantidad de números positivos fue de: 10\n",
      " La cantidad de números negativos fue de: 0\n"
     ]
    }
   ],
   "source": [
    "#8) Escribe un programa que permita al usuario ingresar 100 números enteros. Luego, el\n",
    "#programa debe indicar cuántos de estos números son pares, cuántos son impares, cuántos son\n",
    "#negativos y cuántos son positivos. (Nota: para probar el programa puedes usar una cantidad\n",
    "#menor, pero debe estar preparado para procesar 100 números con un solo cambio).\n",
    "\n",
    "\n",
    "cantidad_ingresos = 0\n",
    "pares = 0\n",
    "impares = 0\n",
    "positivos = 0\n",
    "negativos = 0\n",
    "\n",
    "while cantidad_ingresos < 100:\n",
    "    numero = int(input(f\"Por favor, ingrese el número {cantidad_ingresos +1} de un total de 100 ingresos.\"))\n",
    "    if numero % 2 == 0:\n",
    "        pares +=1\n",
    "    else:\n",
    "        impares += 1\n",
    "    if numero > 0:\n",
    "        positivos += 1\n",
    "    else:\n",
    "        negativos += 1\n",
    "\n",
    "    cantidad_ingresos +=1 \n",
    "\n",
    "print(f\"La cantidad de número pares fue de: {pares}\\n La cantidad de números impares fue de: {impares}\\n La cantidad de números positivos fue de: {positivos}\\n La cantidad de números negativos fue de: {negativos}\")"
   ]
  },
  {
   "cell_type": "code",
   "execution_count": null,
   "id": "99bad0f5",
   "metadata": {},
   "outputs": [
    {
     "name": "stdout",
     "output_type": "stream",
     "text": [
      "La media es: 5\n"
     ]
    }
   ],
   "source": [
    "#9) Elabora un programa que permita al usuario ingresar 100 números enteros y luego calcule la\n",
    "#media de esos valores. (Nota: puedes probar el programa con una cantidad menor, pero debe\n",
    "#poder procesar 100 números cambiando solo un valor).\n",
    "from statistics import mean\n",
    "numeros = []\n",
    "cantidad_ingresos = 0\n",
    "\n",
    "while cantidad_ingresos < 100:\n",
    "    numero = int(input(f\"Por favor, ingrese el número {cantidad_ingresos +1} de un total de 100 ingresos.\"))\n",
    "    numeros.append(numero)\n",
    "    cantidad_ingresos +=1\n",
    "    \n",
    "print (f\"La media es: {mean(numeros)}\")\n",
    "\n",
    "\n"
   ]
  },
  {
   "cell_type": "code",
   "execution_count": null,
   "id": "1be71402",
   "metadata": {},
   "outputs": [
    {
     "name": "stdout",
     "output_type": "stream",
     "text": [
      "numero invertido: 0001\n"
     ]
    }
   ],
   "source": [
    "#10) Escribe un programa que invierta el orden de los dígitos de un número ingresado por el\n",
    "#usuario. Ejemplo: si el usuario ingresa 547, el programa debe mostrar 745.\n",
    "\n",
    "\n",
    "numero =(input(\"Por favor, ingrese un número: \"))\n",
    "dado_vuelta = \"\"\n",
    "\n",
    "#print(cantidad_digitos)\n",
    "\n",
    "for char in numero:\n",
    "    dado_vuelta = char + dado_vuelta\n",
    "\n",
    "print(f\"numero invertido: {dado_vuelta}\")\n",
    "#Nota: Me ayudé con esta link, porque no tenía ni idea de como trabajar con strings en Python\n",
    "#Link:  https://www.guru99.com/es/reverse-a-string-in-python.html"
   ]
  }
 ],
 "metadata": {
  "kernelspec": {
   "display_name": "Python 3",
   "language": "python",
   "name": "python3"
  },
  "language_info": {
   "codemirror_mode": {
    "name": "ipython",
    "version": 3
   },
   "file_extension": ".py",
   "mimetype": "text/x-python",
   "name": "python",
   "nbconvert_exporter": "python",
   "pygments_lexer": "ipython3",
   "version": "3.13.2"
  }
 },
 "nbformat": 4,
 "nbformat_minor": 5
}
