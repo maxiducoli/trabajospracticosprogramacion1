{
 "cells": [
  {
   "cell_type": "code",
   "execution_count": null,
   "id": "d6d8b829",
   "metadata": {},
   "outputs": [
    {
     "name": "stdout",
     "output_type": "stream",
     "text": [
      "15\n"
     ]
    }
   ],
   "source": [
    "#Ejercicio 01\n",
    "lista = [1,2,3,4,5]\n",
    "a = 0\n",
    "b = 0\n",
    "\n",
    "for item in lista:\n",
    "    a += item\n",
    "c = a\n",
    "print(c)"
   ]
  },
  {
   "cell_type": "code",
   "execution_count": 1,
   "id": "f6b11293",
   "metadata": {},
   "outputs": [
    {
     "name": "stdout",
     "output_type": "stream",
     "text": [
      "3\n",
      "6\n",
      "9\n"
     ]
    }
   ],
   "source": [
    "#Ejercicio 02\n",
    "for i in range(1,11):\n",
    "    if i % 3 == 0:\n",
    "        print(i)\n",
    "    else:\n",
    "        pass"
   ]
  },
  {
   "cell_type": "code",
   "execution_count": 2,
   "id": "59c34613",
   "metadata": {},
   "outputs": [
    {
     "name": "stdout",
     "output_type": "stream",
     "text": [
      "La lista total es:  154\n"
     ]
    }
   ],
   "source": [
    "#Ejercicio 03\n",
    "total = 0\n",
    "lista_de_numeros = [3,27,34,90]\n",
    "for numero in lista_de_numeros:\n",
    "    total += numero\n",
    "print(\"La lista total es: \", total)"
   ]
  },
  {
   "cell_type": "code",
   "execution_count": 12,
   "id": "4f338947",
   "metadata": {},
   "outputs": [
    {
     "name": "stdout",
     "output_type": "stream",
     "text": [
      "El total es:  120\n"
     ]
    }
   ],
   "source": [
    "#Ejercicio 04\n",
    "total = 0\n",
    "lista_de_numeros = [24,52,10,34,236]\n",
    "for numero in lista_de_numeros:\n",
    "    if total <= 100:\n",
    "        total += numero\n",
    "else:\n",
    "    pass\n",
    "print(\"El total es: \", total)"
   ]
  },
  {
   "cell_type": "code",
   "execution_count": null,
   "id": "22485b97",
   "metadata": {},
   "outputs": [
    {
     "name": "stdout",
     "output_type": "stream",
     "text": [
      "15\n"
     ]
    }
   ],
   "source": [
    "#Ejercicio 05\n",
    "x = 0\n",
    "for i in range(1,6):\n",
    "    x += i\n",
    "    if x > 10:\n",
    "        break\n",
    "print(x)"
   ]
  },
  {
   "cell_type": "code",
   "execution_count": null,
   "id": "d2fc93ad",
   "metadata": {},
   "outputs": [
    {
     "name": "stdout",
     "output_type": "stream",
     "text": [
      "1\n",
      "3\n",
      "5\n",
      "7\n",
      "9\n"
     ]
    }
   ],
   "source": [
    "#Ejercicio 06\n",
    "for i in range(1,10,2):\n",
    "    print(i)"
   ]
  },
  {
   "cell_type": "code",
   "execution_count": null,
   "id": "3fb97ac4",
   "metadata": {},
   "outputs": [
    {
     "name": "stdout",
     "output_type": "stream",
     "text": [
      "0\n",
      "6\n"
     ]
    }
   ],
   "source": [
    "#Ejercicio 07\n",
    "for i in range(0,10,2):\n",
    "    if i % 3 == 0:\n",
    "        print(i)"
   ]
  },
  {
   "cell_type": "code",
   "execution_count": null,
   "id": "7abe4825",
   "metadata": {},
   "outputs": [
    {
     "name": "stdout",
     "output_type": "stream",
     "text": [
      "24\n"
     ]
    }
   ],
   "source": [
    "#Ejercicio 08\n",
    "nums = [1,2,3,4,5]\n",
    "result = 1\n",
    "for num in nums:\n",
    "    result *= num\n",
    "    if result > 10:\n",
    "        break\n",
    "print(result)"
   ]
  },
  {
   "cell_type": "code",
   "execution_count": null,
   "id": "fe1f631d",
   "metadata": {},
   "outputs": [
    {
     "name": "stdout",
     "output_type": "stream",
     "text": [
      "El resultado final es: 0\n"
     ]
    }
   ],
   "source": [
    "#Ejercicio 09\n",
    "multiplicacion = 0\n",
    "for numero in range(1,6):\n",
    "    multiplicacion *= numero\n",
    "print(f\"El resultado final es: {multiplicacion}\")"
   ]
  },
  {
   "cell_type": "code",
   "execution_count": null,
   "id": "d991110a",
   "metadata": {},
   "outputs": [
    {
     "name": "stdout",
     "output_type": "stream",
     "text": [
      "En la iteracion número 1 la suma vale 1.\n",
      "En la iteracion número 2 la suma vale 3.\n",
      "En la iteracion número 3 la suma vale 6.\n",
      "En la iteracion número 4 la suma vale 10.\n",
      "En la iteracion número 5 la suma vale 15.\n"
     ]
    }
   ],
   "source": [
    "#Ejercicio 10\n",
    "numero = 5\n",
    "iteracion = 0\n",
    "suma = 0\n",
    "for i in range(numero):\n",
    "    iteracion += 1\n",
    "    suma += iteracion\n",
    "    print(f\"En la iteracion número {iteracion} la suma vale {suma}.\")"
   ]
  }
 ],
 "metadata": {
  "kernelspec": {
   "display_name": "Python 3",
   "language": "python",
   "name": "python3"
  },
  "language_info": {
   "codemirror_mode": {
    "name": "ipython",
    "version": 3
   },
   "file_extension": ".py",
   "mimetype": "text/x-python",
   "name": "python",
   "nbconvert_exporter": "python",
   "pygments_lexer": "ipython3",
   "version": "3.13.2"
  }
 },
 "nbformat": 4,
 "nbformat_minor": 5
}
