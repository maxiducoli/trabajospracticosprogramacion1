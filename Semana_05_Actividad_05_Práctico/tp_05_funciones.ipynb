{
 "cells": [
  {
   "cell_type": "code",
   "execution_count": 1,
   "metadata": {},
   "outputs": [
    {
     "name": "stdout",
     "output_type": "stream",
     "text": [
      "Hola Mundo!\n"
     ]
    }
   ],
   "source": [
    "#1\n",
    "# Crear una función llamada imprimir_hola_mundo que imprima por\n",
    "# pantalla el mensaje: “Hola Mundo!”. Llamar a esta función desde el\n",
    "# programa principal.\n",
    "\n",
    "def imprimir_hola_mundo():\n",
    "    print(\"Hola Mundo!\")\n",
    "\n",
    "imprimir_hola_mundo()"
   ]
  },
  {
   "cell_type": "code",
   "execution_count": 2,
   "metadata": {},
   "outputs": [
    {
     "name": "stdout",
     "output_type": "stream",
     "text": [
      "Hola, Yo!\n"
     ]
    }
   ],
   "source": [
    "# 2. \n",
    "# Crear una función llamada saludar_usuario(nombre) que reciba\n",
    "# como parámetro un nombre y devuelva un saludo personalizado.\n",
    "# Por ejemplo, si se llama con saludar_usuario(\"Marcos\"), deberá devolver:\n",
    "# “Hola Marcos!”. Llamar a esta función desde el programa\n",
    "# principal solicitando el nombre al usuario.\n",
    "\n",
    "def saludar_usuario(nombre):\n",
    "    print(f\"Hola, {nombre}!\")\n",
    "\n",
    "nombre = input(\"Ingrese su nombre\")    \n",
    "saludar_usuario(nombre)\n"
   ]
  },
  {
   "cell_type": "code",
   "execution_count": 3,
   "metadata": {},
   "outputs": [
    {
     "name": "stdout",
     "output_type": "stream",
     "text": [
      "Soy Yo To, tengo 12 años y vivo en Acá\n"
     ]
    }
   ],
   "source": [
    "#3.\n",
    "# Crear una función llamada informacion_personal(nombre, apellido,\n",
    "# edad, residencia) que reciba cuatro parámetros e imprima: “Soy\n",
    "# [nombre] [apellido], tengo [edad] años y vivo en [residencia]”. Pedir\n",
    "# los datos al usuario y llamar a esta función con los valores ingresados.\n",
    "\n",
    "def informacion_personal(nombre, apellido, edad, residencia):\n",
    "    print(f\"Soy {nombre} {apellido}, tengo {edad} años y vivo en {residencia}\")\n",
    "\n",
    "nombre = input(\"Ingrese su nombre\")\n",
    "apellido = input(\"Ingrese su apellido\")\n",
    "edad = input(\"Ingrese su edad\")\n",
    "residencia = input(\"Ingrese su lugar de residecia\")\n",
    "\n",
    "informacion_personal(nombre,apellido,edad,residencia)"
   ]
  },
  {
   "cell_type": "code",
   "execution_count": 9,
   "metadata": {},
   "outputs": [
    {
     "name": "stdout",
     "output_type": "stream",
     "text": [
      "El área del círculo según radio ingresado es: 7854.0 y el radio es 314.15999999999997\n"
     ]
    }
   ],
   "source": [
    "# 4. \n",
    "# Crear dos funciones: calcular_area_circulo(radio) que reciba el radio\n",
    "# como parámetro y devuelva el área del círculo. calcular_perimetro_\n",
    "# circulo(radio) que reciba el radio como parámetro y devuelva\n",
    "# el perímetro del círculo. Solicitar el radio al usuario y llamar ambas\n",
    "# funciones para mostrar los resultados.\n",
    "\n",
    "\n",
    "\n",
    "def calcular_area_circulo(radio):\n",
    "    calcular = 3.1416 * (radio * radio)\n",
    "    return calcular\n",
    "\n",
    "def calcular_perimetro_circulo(radio):\n",
    "    calcular = 2 * 3.1416 * radio\n",
    "    return calcular\n",
    "\n",
    "calculo = float(input(\"Por favor, ingrese el radio del círculo para calcula su área y su radio\"))\n",
    "print(f\"El área del círculo según radio ingresado es: {str(calcular_area_circulo(calculo))} y el radio es {str(calcular_perimetro_circulo(calculo))}\")\n",
    "\n"
   ]
  },
  {
   "cell_type": "code",
   "execution_count": 19,
   "metadata": {},
   "outputs": [
    {
     "name": "stdout",
     "output_type": "stream",
     "text": [
      "La cantidad de horas correspondientes a 36000 segundos, es de 10 hora(s)\n"
     ]
    }
   ],
   "source": [
    "# 5\n",
    "# Crear una función llamada segundos_a_horas(segundos) que reciba\n",
    "# una cantidad de segundos como parámetro y devuelva la cantidad\n",
    "# de horas correspondientes. Solicitar al usuario los segundos y mostrar\n",
    "# el resultado usando esta función.\n",
    "\n",
    "def segundos_a_horas(segundos):\n",
    "    horas = (segundos / 3600) \n",
    "    return (f\"{str(int(horas))}\")\n",
    "\n",
    "segundos = int(input(\"Ingrese la cantidad de segundos que desea pasar a horas: \"))    \n",
    "print(f\"La cantidad de horas correspondientes a {segundos} segundos, es de {str(segundos_a_horas(segundos))} hora(s)\")"
   ]
  },
  {
   "cell_type": "code",
   "execution_count": 28,
   "metadata": {},
   "outputs": [
    {
     "name": "stdout",
     "output_type": "stream",
     "text": [
      "0 x 100 = 0\n",
      "1 x 100 = 100\n",
      "2 x 100 = 200\n",
      "3 x 100 = 300\n",
      "4 x 100 = 400\n",
      "5 x 100 = 500\n",
      "6 x 100 = 600\n",
      "7 x 100 = 700\n",
      "8 x 100 = 800\n",
      "9 x 100 = 900\n",
      "10 x 100 = 1000\n"
     ]
    }
   ],
   "source": [
    "# 6. \n",
    "# Crear una función llamada tabla_multiplicar(numero) que reciba un\n",
    "# número como parámetro y imprima la tabla de multiplicar de ese\n",
    "# número del 1 al 10. Pedir al usuario el número y llamar a la función.\n",
    "\n",
    "def tabla_multiplicar(numero):\n",
    "    for i in range(0,11):\n",
    "        print(f\"{i} x {numero} = {numero * i}\")\n",
    "\n",
    "\n",
    "multiplo = int(input(\"Ingrese un número \"))\n",
    "tabla_multiplicar(multiplo)"
   ]
  },
  {
   "cell_type": "code",
   "execution_count": 44,
   "metadata": {},
   "outputs": [
    {
     "name": "stdout",
     "output_type": "stream",
     "text": [
      "Suma:  8\n",
      "Resta:  12\n",
      "Multiplicación:  -20\n",
      "División:  -5.0\n"
     ]
    }
   ],
   "source": [
    "# 7.\n",
    "# Crear una función llamada operaciones_basicas(a, b) que reciba\n",
    "# dos números como parámetros y devuelva una tupla con el resultado\n",
    "# de sumarlos, restarlos, multiplicarlos y dividirlos. Mostrar los resultados\n",
    "# de forma clara.\n",
    "\n",
    "def operaciones_basica(a, b):\n",
    "    division = 0 \n",
    "    if b != 0:\n",
    "        division = a / b\n",
    "        \n",
    "    return[a + b,a - b, a * b, division]\n",
    "    \n",
    "\n",
    "cabeceras = [\"Suma: \", \"Resta: \", \"Multiplicación: \", \"División: \"]\n",
    "numero_1 = int(input(\"Por favor, ingrese un número: \"))\n",
    "numero_2 = int(input(\"Por favor, ingrese un número: \"))\n",
    "contador = 0\n",
    "numeros = operaciones_basica(numero_1, numero_2)\n",
    "\n",
    "for i in numeros:\n",
    "    print(f\"{cabeceras[contador]} {numeros[contador]}\")\n",
    "    contador += 1"
   ]
  },
  {
   "cell_type": "code",
   "execution_count": 45,
   "metadata": {},
   "outputs": [
    {
     "name": "stdout",
     "output_type": "stream",
     "text": [
      "Su índice de masa corporal es de: 40.30310348991667\n"
     ]
    }
   ],
   "source": [
    "# 8. \n",
    "# Crear una función llamada calcular_imc(peso, altura) que reciba el\n",
    "# peso en kilogramos y la altura en metros, y devuelva el índice de\n",
    "# masa corporal (IMC). Solicitar al usuario los datos y llamar a la función\n",
    "# para mostrar el resultado con dos decimales.\n",
    "\n",
    "def calcular_imc(peso, altura):\n",
    "    return peso / (altura * altura)\n",
    "\n",
    "peso = float(input(\"Ingrese su peso en KGs:\"))\n",
    "altura = float(input(\"Ingrese su altura en cm: \"))\n",
    "\n",
    "print(f\"Su índice de masa corporal es de: {calcular_imc(peso, altura)}\")\n",
    "\n"
   ]
  },
  {
   "cell_type": "code",
   "execution_count": 48,
   "metadata": {},
   "outputs": [
    {
     "name": "stdout",
     "output_type": "stream",
     "text": [
      "32.0 grados celsius, equivalen a : 89.6 grados fahrenheit\n"
     ]
    }
   ],
   "source": [
    "# 9.\n",
    "# Crear una función llamada celsius_a_fahrenheit(celsius) que reciba\n",
    "# una temperatura en grados Celsius y devuelva su equivalente en\n",
    "# Fahrenheit. Pedir al usuario la temperatura en Celsius y mostrar el\n",
    "# resultado usando la función\n",
    "\n",
    "\n",
    "def celsius_a_fahrenheit(celsius):\n",
    "    return (celsius * (9/5)) + 32\n",
    "\n",
    "celsius =float(input(\"Ingrese los grados celsius a convertir hacia fharenheit: \"))\n",
    "print(f\"{celsius} grados celsius, equivalen a : {celsius_a_fahrenheit(celsius)} grados fahrenheit\")"
   ]
  },
  {
   "cell_type": "code",
   "execution_count": 50,
   "metadata": {},
   "outputs": [
    {
     "name": "stdout",
     "output_type": "stream",
     "text": [
      "EL promedio es: 7.383333333333333\n"
     ]
    }
   ],
   "source": [
    "# 10.\n",
    "# Crear una función llamada calcular_promedio(a, b, c) que reciba\n",
    "# tres números como parámetros y devuelva el promedio de ellos.\n",
    "# Solicitar los números al usuario y mostrar el resultado usando esta\n",
    "# función.\n",
    "\n",
    "def calcular_promedio(a,b,c):\n",
    "    return (a+b+c)/3\n",
    "\n",
    "numero_1 = float(input(\"Ingrese el primer número\"))\n",
    "numero_2 = float(input(\"Ingrese el segundo número\"))\n",
    "numero_3 = float(input(\"Ingrese el tercer número\"))\n",
    "\n",
    "print(f\"EL promedio es: {str(calcular_promedio(numero_1, numero_2,numero_3))}\")"
   ]
  }
 ],
 "metadata": {
  "kernelspec": {
   "display_name": "Python 3",
   "language": "python",
   "name": "python3"
  },
  "language_info": {
   "codemirror_mode": {
    "name": "ipython",
    "version": 3
   },
   "file_extension": ".py",
   "mimetype": "text/x-python",
   "name": "python",
   "nbconvert_exporter": "python",
   "pygments_lexer": "ipython3",
   "version": "3.12.8"
  }
 },
 "nbformat": 4,
 "nbformat_minor": 2
}
