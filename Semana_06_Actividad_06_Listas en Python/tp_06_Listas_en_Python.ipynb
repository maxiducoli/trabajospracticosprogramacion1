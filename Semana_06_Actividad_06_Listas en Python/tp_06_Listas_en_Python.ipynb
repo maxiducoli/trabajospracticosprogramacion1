{
 "cells": [
  {
   "cell_type": "code",
   "execution_count": 1,
   "id": "b0b59081",
   "metadata": {},
   "outputs": [
    {
     "name": "stdout",
     "output_type": "stream",
     "text": [
      "[4, 8, 12, 16, 20, 24, 28, 32, 36, 40, 44, 48, 52, 56, 60, 64, 68, 72, 76, 80, 84, 88, 92, 96, 100]\n"
     ]
    }
   ],
   "source": [
    "#1) Crear una lista con los números del 1 al 100 que sean múltiplos de 4. Utilizar la función range.\n",
    "\n",
    "lista = [i for i in range(1, 101) if i % 4 == 0]\n",
    "print(lista)"
   ]
  },
  {
   "cell_type": "code",
   "execution_count": 2,
   "id": "abd281fe",
   "metadata": {},
   "outputs": [
    {
     "name": "stdout",
     "output_type": "stream",
     "text": [
      "pez\n"
     ]
    }
   ],
   "source": [
    "#2) Crear una lista con cinco elementos (colocar los elementos que más te gusten) y mostrar el penúltimo. \n",
    "#¡Puedes hacerlo como se muestra en los videos o bien investigar cómo funciona el indexing con números negativos\n",
    "\n",
    "lista = [\"perro\", \"gato\", \"pájaro\", \"pez\", \"tortuga\"]\n",
    "print(lista[-2]) # Usando index negativo"
   ]
  },
  {
   "cell_type": "code",
   "execution_count": 3,
   "id": "2ae24b46",
   "metadata": {},
   "outputs": [
    {
     "name": "stdout",
     "output_type": "stream",
     "text": [
      "['perro', 'gato', 'pájaro']\n"
     ]
    }
   ],
   "source": [
    "# 3) Crear una lista vacía, agregar tres palabras con append e imprimir la lista resultante por pantalla. \n",
    "# Pista: para crear una lista vacía debes colocar los corchetes sin nada en su interior. \n",
    "# Por ejemplo: lista_vacia = []\n",
    "\n",
    "lista_vacia = []\n",
    "lista_vacia.append(\"perro\")\n",
    "lista_vacia.append(\"gato\")\n",
    "lista_vacia.append(\"pájaro\")\n",
    "print(lista_vacia) # Imprimiendo la lista resultante"
   ]
  },
  {
   "cell_type": "code",
   "execution_count": 4,
   "id": "8300cb75",
   "metadata": {},
   "outputs": [
    {
     "name": "stdout",
     "output_type": "stream",
     "text": [
      "['perro', 'loro', 'conejo', 'oso']\n"
     ]
    }
   ],
   "source": [
    "# 4) Reemplazar el segundo y último valor de la lista “animales” con las palabras “loro” y “oso”, respectivamente. \n",
    "# Imprimir la lista resultante por pantalla. \n",
    "# ¡Puedes hacerlo como se muestra en los videos o bien investigar cómo funciona el indexing con números negativos! \n",
    "# animales = [\"perro\", \"gato\", \"conejo\", \"pez\"]\n",
    "\n",
    "animales = [\"perro\", \"gato\", \"conejo\", \"pez\"]\n",
    "animales[1] = \"loro\" # Reemplazando el segundo valor\n",
    "animales[-1] = \"oso\" # Reemplazando el último valor\n",
    "print(animales) # Imprimiendo la lista resultante\n"
   ]
  },
  {
   "cell_type": "code",
   "execution_count": null,
   "id": "73f19b96",
   "metadata": {},
   "outputs": [
    {
     "name": "stdout",
     "output_type": "stream",
     "text": [
      "[8, 15, 3, 7]\n"
     ]
    }
   ],
   "source": [
    "#5) Analizar el siguiente programa y explicar con tus palabras qué es lo que realiza.\n",
    "numeros = [8,15,3,22,7]\n",
    "numeros.remove(max(numeros))\n",
    "print(numeros)\n",
    "\n",
    "#El script borra el valor máximo de la lista \"numeros\" y luego imprime la lista resultante."
   ]
  },
  {
   "cell_type": "code",
   "execution_count": 7,
   "id": "52f1d639",
   "metadata": {},
   "outputs": [
    {
     "name": "stdout",
     "output_type": "stream",
     "text": [
      "[10, 15]\n"
     ]
    }
   ],
   "source": [
    "# 6) Crear una lista con números del 10 al 30 (incluído), haciendo saltos de 5 en 5 \n",
    "# y mostrar por pantalla los dos primeros.\n",
    "\n",
    "numeros = [i for i in range(10, 31, 5)]\n",
    "print(numeros[:2]) # Imprimiendo los dos primeros elementos de la lista"
   ]
  },
  {
   "cell_type": "code",
   "execution_count": 8,
   "id": "8ed59dd7",
   "metadata": {},
   "outputs": [
    {
     "name": "stdout",
     "output_type": "stream",
     "text": [
      "['sedan', 'camioneta', 'pickup', 'gol']\n"
     ]
    }
   ],
   "source": [
    "# 7) Reemplazar los dos valores centrales (índices 1 y 2) de la lista “autos” por dos nuevos valores cualesquiera. \n",
    "# autos = [\"sedan\", \"polo\", \"suran\", \"gol\"]\n",
    "\n",
    "\n",
    "autos = [\"sedan\", \"polo\", \"suran\", \"gol\"]\n",
    "autos[1] = \"camioneta\" # Reemplazando el segundo valor  \n",
    "autos[2] = \"pickup\" # Reemplazando el tercer valor\n",
    "print(autos) # Imprimiendo la lista resultante\n"
   ]
  },
  {
   "cell_type": "code",
   "execution_count": 9,
   "id": "bb74a0aa",
   "metadata": {},
   "outputs": [
    {
     "name": "stdout",
     "output_type": "stream",
     "text": [
      "[10, 20, 30]\n"
     ]
    }
   ],
   "source": [
    "# 8) Crear una lista vacía llamada \"dobles\" y agregar el doble de 5, 10 y 15 usando append directamente. \n",
    "# Imprimir la lista resultante por pantalla.\n",
    "\n",
    "dobles = [] # Creando una lista vacía\n",
    "dobles.append(5 * 2) # Agregando el doble de 5\n",
    "dobles.append(10 * 2) # Agregando el doble de 10\n",
    "\n",
    "dobles.append(15 * 2) # Agregando el doble de 15\n",
    "print(dobles) # Imprimiendo la lista resultante\n"
   ]
  },
  {
   "cell_type": "code",
   "execution_count": 10,
   "id": "15be3bdd",
   "metadata": {},
   "outputs": [
    {
     "name": "stdout",
     "output_type": "stream",
     "text": [
      "[['leche'], ['arroz', 'tallarines', 'salsa'], ['agua', 'jugo']]\n"
     ]
    }
   ],
   "source": [
    "# 9) Dada la lista “compras”, cuyos elementos representan los productos comprados por diferentes clientes:\n",
    "# compras = [[\"pan\", \"leche\"], [\"arroz\", \"fideos\", \"salsa\"], [\"agua\"]]\n",
    "# a) Agregar \"jugo\" a la lista del tercer cliente usando append.\n",
    "# b) Reemplazar \"fideos\" por \"tallarines\" en la lista del segundo cliente.\n",
    "# c) Eliminar \"pan\" de la lista del primer cliente.\n",
    "# d) Imprimir la lista resultante por pantalla\n",
    "\n",
    "compras = [[\"pan\", \"leche\"], [\"arroz\", \"fideos\", \"salsa\"], [\"agua\"]]\n",
    "compras[2].append(\"jugo\") # Agregando \"jugo\" a la lista del tercer cliente\n",
    "compras[1][1] = \"tallarines\" # Reemplazando \"fideos\" por \"tallarines\" en la lista del segundo cliente\n",
    "compras[0].remove(\"pan\") # Eliminando \"pan\" de la lista del primer cliente\n",
    "print(compras) # Imprimiendo la lista resultante\n"
   ]
  },
  {
   "cell_type": "code",
   "execution_count": 11,
   "id": "8da621af",
   "metadata": {},
   "outputs": [
    {
     "name": "stdout",
     "output_type": "stream",
     "text": [
      "[15, True, [25.5, 57.9, 30.6], False]\n"
     ]
    }
   ],
   "source": [
    "# 10) Elaborar una lista anidada llamada “lista_anidada” que contenga los siguientes elementos:\n",
    "# ● Posición lista_anidada[0]: 15\n",
    "# ● Posición lista_anidada[1]: True\n",
    "# ● Posición lista_anidada[2][0]: 25.5\n",
    "# ● Posición lista_anidada[2][1]: 57.9\n",
    "# ● Posición lista_anidada[2][2]: 30.6\n",
    "# ● Posición lista_anidada[3]: False\n",
    "# Imprimir la lista resultante por pantalla.\n",
    "\n",
    "lista_anidada = [15, True, [25.5, 57.9, 30.6], False] # Creando la lista anidada\n",
    "print(lista_anidada) # Imprimiendo la lista resultante\n"
   ]
  }
 ],
 "metadata": {
  "kernelspec": {
   "display_name": "Python 3",
   "language": "python",
   "name": "python3"
  },
  "language_info": {
   "codemirror_mode": {
    "name": "ipython",
    "version": 3
   },
   "file_extension": ".py",
   "mimetype": "text/x-python",
   "name": "python",
   "nbconvert_exporter": "python",
   "pygments_lexer": "ipython3",
   "version": "3.13.2"
  }
 },
 "nbformat": 4,
 "nbformat_minor": 5
}
